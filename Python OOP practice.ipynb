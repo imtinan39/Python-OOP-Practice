{
 "cells": [
  {
   "cell_type": "code",
   "execution_count": 211,
   "id": "18d16a5c",
   "metadata": {},
   "outputs": [],
   "source": [
    "class UTC:\n",
    "    com_name=\"UTC\"\n",
    "    def __init__(self):\n",
    "        print(\"What is the new employee's name\")\n",
    "        self.name=input()\n",
    "        print(\"what is the new employee salary\")\n",
    "        self.__salary=int(input())\n",
    "        \n",
    "    def bonus(self,amount):\n",
    "        self.__salary=self.__salary+amount\n",
    "    def set_private_attr(self, value):\n",
    "        self.__salary = value\n",
    "    def get_private_attr(self):\n",
    "        return self.__salary  "
   ]
  },
  {
   "cell_type": "code",
   "execution_count": 212,
   "id": "c2819b27",
   "metadata": {},
   "outputs": [
    {
     "name": "stdout",
     "output_type": "stream",
     "text": [
      "What is the new employee's name\n",
      "imtina\n",
      "what is the new employee salary\n",
      "500\n"
     ]
    }
   ],
   "source": [
    "imtinan=UTC()"
   ]
  },
  {
   "cell_type": "code",
   "execution_count": 213,
   "id": "d329727e",
   "metadata": {},
   "outputs": [
    {
     "data": {
      "text/plain": [
       "500"
      ]
     },
     "execution_count": 213,
     "metadata": {},
     "output_type": "execute_result"
    }
   ],
   "source": [
    "imtinan._UTC__salary\n",
    "\n"
   ]
  },
  {
   "cell_type": "code",
   "execution_count": 214,
   "id": "1dbcfbac",
   "metadata": {},
   "outputs": [],
   "source": [
    "imtinan.bonus(1000)"
   ]
  },
  {
   "cell_type": "markdown",
   "id": "afd7dc61",
   "metadata": {},
   "source": [
    "imtinan.salary"
   ]
  },
  {
   "cell_type": "code",
   "execution_count": 215,
   "id": "80365984",
   "metadata": {},
   "outputs": [],
   "source": [
    "class Manager(UTC):\n",
    "    def __init__(self):\n",
    "        UTC.__init__(self)\n",
    "        \n",
    "    def fine(self,amount):\n",
    "        self.set_private_attr(self.get_private_attr()-amount)\n",
    "    def bonus(self,amount,fee):\n",
    "        self.set_private_attr(self.get_private_attr()+amount+fee)"
   ]
  },
  {
   "cell_type": "code",
   "execution_count": 216,
   "id": "3416faa8",
   "metadata": {},
   "outputs": [
    {
     "name": "stdout",
     "output_type": "stream",
     "text": [
      "What is the new employee's name\n",
      "akash\n",
      "what is the new employee salary\n",
      "500\n"
     ]
    }
   ],
   "source": [
    "emp3=Manager()"
   ]
  },
  {
   "cell_type": "code",
   "execution_count": 217,
   "id": "2d2ed407",
   "metadata": {},
   "outputs": [],
   "source": [
    "emp3.bonus(100,9)"
   ]
  },
  {
   "cell_type": "code",
   "execution_count": 218,
   "id": "444b4941",
   "metadata": {},
   "outputs": [
    {
     "data": {
      "text/plain": [
       "609"
      ]
     },
     "execution_count": 218,
     "metadata": {},
     "output_type": "execute_result"
    }
   ],
   "source": [
    "emp3.get_private_attr()"
   ]
  },
  {
   "cell_type": "code",
   "execution_count": 219,
   "id": "4db32e27",
   "metadata": {},
   "outputs": [],
   "source": [
    "emp3.fine(50)"
   ]
  },
  {
   "cell_type": "code",
   "execution_count": 220,
   "id": "626a0354",
   "metadata": {},
   "outputs": [
    {
     "data": {
      "text/plain": [
       "559"
      ]
     },
     "execution_count": 220,
     "metadata": {},
     "output_type": "execute_result"
    }
   ],
   "source": [
    "emp3.get_private_attr()"
   ]
  },
  {
   "cell_type": "code",
   "execution_count": 221,
   "id": "c65616f5",
   "metadata": {},
   "outputs": [
    {
     "data": {
      "text/plain": [
       "<bound method Manager.bonus of <__main__.Manager object at 0x000001D97EA1CFA0>>"
      ]
     },
     "execution_count": 221,
     "metadata": {},
     "output_type": "execute_result"
    }
   ],
   "source": [
    "emp3.bonus"
   ]
  },
  {
   "cell_type": "code",
   "execution_count": null,
   "id": "75e9d80d",
   "metadata": {},
   "outputs": [],
   "source": []
  }
 ],
 "metadata": {
  "kernelspec": {
   "display_name": "Python 3 (ipykernel)",
   "language": "python",
   "name": "python3"
  },
  "language_info": {
   "codemirror_mode": {
    "name": "ipython",
    "version": 3
   },
   "file_extension": ".py",
   "mimetype": "text/x-python",
   "name": "python",
   "nbconvert_exporter": "python",
   "pygments_lexer": "ipython3",
   "version": "3.9.13"
  }
 },
 "nbformat": 4,
 "nbformat_minor": 5
}
