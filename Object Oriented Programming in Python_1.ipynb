{
 "cells": [
  {
   "cell_type": "code",
   "execution_count": 47,
   "id": "ff03cfa3",
   "metadata": {},
   "outputs": [],
   "source": [
    "from abc import abstractmethod\n",
    "class JuniorHR:\n",
    "    def __init__(self):\n",
    "        print(\"What is the name of the employee\")\n",
    "        self.name=input()\n",
    "        print(\"What is the salary of the employee\")\n",
    "        self.__salary=int(input())\n",
    "    def get_salary(self):\n",
    "        return self.__salary\n",
    "    \n",
    "    def set_salary(self,value):\n",
    "        self.__salary=value\n",
    "    \n",
    "    def bonus(self,amount):\n",
    "        self.__salary=self.__salary+amount\n",
    "    @abstractmethod\n",
    "    def leave(self):\n",
    "        pass\n",
    "        \n",
    "        \n",
    "        "
   ]
  },
  {
   "cell_type": "code",
   "execution_count": 48,
   "id": "f60a84ba",
   "metadata": {},
   "outputs": [
    {
     "name": "stdout",
     "output_type": "stream",
     "text": [
      "What is the name of the employee\n",
      "Mia\n",
      "What is the salary of the employee\n",
      "500\n"
     ]
    }
   ],
   "source": [
    "emp_1=JuniorHR()"
   ]
  },
  {
   "cell_type": "code",
   "execution_count": 49,
   "id": "57806736",
   "metadata": {},
   "outputs": [
    {
     "data": {
      "text/plain": [
       "'Mia'"
      ]
     },
     "execution_count": 49,
     "metadata": {},
     "output_type": "execute_result"
    }
   ],
   "source": [
    "emp_1.name"
   ]
  },
  {
   "cell_type": "code",
   "execution_count": 50,
   "id": "6e5d8fa2",
   "metadata": {},
   "outputs": [
    {
     "data": {
      "text/plain": [
       "500"
      ]
     },
     "execution_count": 50,
     "metadata": {},
     "output_type": "execute_result"
    }
   ],
   "source": [
    "emp_1.get_salary()"
   ]
  },
  {
   "cell_type": "code",
   "execution_count": 51,
   "id": "342189ef",
   "metadata": {},
   "outputs": [],
   "source": [
    "emp_1.set_salary(600)"
   ]
  },
  {
   "cell_type": "code",
   "execution_count": 52,
   "id": "7be0fadf",
   "metadata": {},
   "outputs": [
    {
     "data": {
      "text/plain": [
       "600"
      ]
     },
     "execution_count": 52,
     "metadata": {},
     "output_type": "execute_result"
    }
   ],
   "source": [
    "emp_1.get_salary()"
   ]
  },
  {
   "cell_type": "code",
   "execution_count": 53,
   "id": "93e09c76",
   "metadata": {},
   "outputs": [],
   "source": [
    "emp_1.bonus(50)"
   ]
  },
  {
   "cell_type": "code",
   "execution_count": 54,
   "id": "d59e2497",
   "metadata": {},
   "outputs": [
    {
     "data": {
      "text/plain": [
       "650"
      ]
     },
     "execution_count": 54,
     "metadata": {},
     "output_type": "execute_result"
    }
   ],
   "source": [
    "emp_1.get_salary()"
   ]
  },
  {
   "cell_type": "code",
   "execution_count": 55,
   "id": "5b895cde",
   "metadata": {},
   "outputs": [],
   "source": [
    "class SeniorHR(JuniorHR):\n",
    "    def __init__(self):\n",
    "        JuniorHR.__init__(self)\n",
    "    \n",
    "    def bonus(self,amount,extra_money):\n",
    "        self.set_salary(self.get_salary()+amount+extra_money)\n",
    "    \n",
    "    def fine(self,fine):\n",
    "        self.set_salary(self.get_salary()-fine)\n",
    "    \n",
    "    def leave(self,day):\n",
    "        self.leave=day\n",
    "    \n",
    "        "
   ]
  },
  {
   "cell_type": "code",
   "execution_count": 56,
   "id": "f532dcf1",
   "metadata": {},
   "outputs": [
    {
     "name": "stdout",
     "output_type": "stream",
     "text": [
      "What is the name of the employee\n",
      "Maya\n",
      "What is the salary of the employee\n",
      "700\n"
     ]
    }
   ],
   "source": [
    "emp_2=SeniorHR()"
   ]
  },
  {
   "cell_type": "code",
   "execution_count": 57,
   "id": "ab440876",
   "metadata": {},
   "outputs": [
    {
     "data": {
      "text/plain": [
       "'Maya'"
      ]
     },
     "execution_count": 57,
     "metadata": {},
     "output_type": "execute_result"
    }
   ],
   "source": [
    "emp_2.name"
   ]
  },
  {
   "cell_type": "code",
   "execution_count": 58,
   "id": "100c4ba7",
   "metadata": {},
   "outputs": [
    {
     "data": {
      "text/plain": [
       "700"
      ]
     },
     "execution_count": 58,
     "metadata": {},
     "output_type": "execute_result"
    }
   ],
   "source": [
    "emp_2.get_salary()"
   ]
  },
  {
   "cell_type": "code",
   "execution_count": 59,
   "id": "306e6afb",
   "metadata": {},
   "outputs": [],
   "source": [
    "emp_2.bonus(100,50)"
   ]
  },
  {
   "cell_type": "code",
   "execution_count": 60,
   "id": "9340697f",
   "metadata": {},
   "outputs": [
    {
     "data": {
      "text/plain": [
       "850"
      ]
     },
     "execution_count": 60,
     "metadata": {},
     "output_type": "execute_result"
    }
   ],
   "source": [
    "emp_2.get_salary()"
   ]
  },
  {
   "cell_type": "code",
   "execution_count": 61,
   "id": "53c6d14e",
   "metadata": {},
   "outputs": [],
   "source": [
    "emp_2.fine(20)"
   ]
  },
  {
   "cell_type": "code",
   "execution_count": 62,
   "id": "23ee6aba",
   "metadata": {},
   "outputs": [
    {
     "data": {
      "text/plain": [
       "830"
      ]
     },
     "execution_count": 62,
     "metadata": {},
     "output_type": "execute_result"
    }
   ],
   "source": [
    "emp_2.get_salary()"
   ]
  },
  {
   "cell_type": "code",
   "execution_count": 63,
   "id": "824deab8",
   "metadata": {},
   "outputs": [],
   "source": [
    "emp_2.leave(7)"
   ]
  },
  {
   "cell_type": "code",
   "execution_count": 64,
   "id": "d87ee0f6",
   "metadata": {},
   "outputs": [
    {
     "data": {
      "text/plain": [
       "7"
      ]
     },
     "execution_count": 64,
     "metadata": {},
     "output_type": "execute_result"
    }
   ],
   "source": [
    "emp_2.leave"
   ]
  },
  {
   "cell_type": "code",
   "execution_count": null,
   "id": "2bd48319",
   "metadata": {},
   "outputs": [],
   "source": []
  }
 ],
 "metadata": {
  "kernelspec": {
   "display_name": "Python 3 (ipykernel)",
   "language": "python",
   "name": "python3"
  },
  "language_info": {
   "codemirror_mode": {
    "name": "ipython",
    "version": 3
   },
   "file_extension": ".py",
   "mimetype": "text/x-python",
   "name": "python",
   "nbconvert_exporter": "python",
   "pygments_lexer": "ipython3",
   "version": "3.9.13"
  }
 },
 "nbformat": 4,
 "nbformat_minor": 5
}
