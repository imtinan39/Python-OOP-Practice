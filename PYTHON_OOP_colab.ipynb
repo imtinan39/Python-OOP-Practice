{
  "nbformat": 4,
  "nbformat_minor": 0,
  "metadata": {
    "colab": {
      "provenance": []
    },
    "kernelspec": {
      "name": "python3",
      "display_name": "Python 3"
    },
    "language_info": {
      "name": "python"
    }
  },
  "cells": [
    {
      "cell_type": "code",
      "execution_count": 28,
      "metadata": {
        "id": "rP_6KyRQAWFY"
      },
      "outputs": [],
      "source": [
        "class Car:\n",
        "\n",
        "  def __init__(self, name, model, year):\n",
        "\n",
        "    self.name=name\n",
        "    self.model=model\n",
        "    self.__year=year\n",
        "\n",
        "\n",
        "  def get_year(self):\n",
        "        return self.__year\n",
        "\n",
        "\n",
        "  def info(self):\n",
        "\n",
        "    print(self.name,\"  \",self.model,\" \",self.get_year())\n",
        "\n",
        "\n",
        "\n",
        "\n",
        "\n",
        "class EV(Car):\n",
        "\n",
        "  def __init__(self, name, model, year,battery):\n",
        "\n",
        "    super().__init__(name, model, year)\n",
        "\n",
        "    self.__battery=battery\n",
        "\n",
        "\n",
        "  def get_battery(self):\n",
        "\n",
        "    return self.__battery"
      ]
    },
    {
      "cell_type": "code",
      "source": [
        "car1=Car(\"toyota\", \"camry\",\"2021\")\n",
        "car1.info()\n",
        "\n",
        "ev1=EV(\"TESLA\", \"X\", 2021, 175)\n",
        "\n",
        "print(ev1.get_battery())"
      ],
      "metadata": {
        "colab": {
          "base_uri": "https://localhost:8080/"
        },
        "id": "tQAEUsxlBILl",
        "outputId": "2e2bd5b7-3b33-440d-c8bf-ea415499a0dd"
      },
      "execution_count": 29,
      "outputs": [
        {
          "output_type": "stream",
          "name": "stdout",
          "text": [
            "toyota    camry   2021\n",
            "175\n"
          ]
        }
      ]
    }
  ]
}