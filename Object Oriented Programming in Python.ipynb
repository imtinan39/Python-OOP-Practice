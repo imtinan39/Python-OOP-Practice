{
 "cells": [
  {
   "cell_type": "code",
   "execution_count": 21,
   "id": "77849500",
   "metadata": {},
   "outputs": [],
   "source": [
    "class JuniorHR:\n",
    "    def __init__(self):\n",
    "        print(\"What is the name of the employee\")\n",
    "        self.name=input()\n",
    "        print(\"What is the salary of the employee\")\n",
    "        self.__salary=int(input())\n",
    "    \n",
    "    def get_salary(self):\n",
    "        return self.__salary\n",
    "        \n",
    "    def set_salary(self,value):\n",
    "        self.__salary=value\n",
    "    \n",
    "    def bonus(self,amount):\n",
    "        self.__salary=self.__salary+amount\n",
    "        \n",
    "        "
   ]
  },
  {
   "cell_type": "code",
   "execution_count": 22,
   "id": "40fedbbb",
   "metadata": {},
   "outputs": [
    {
     "name": "stdout",
     "output_type": "stream",
     "text": [
      "What is the name of the employee\n",
      "Mia\n",
      "What is the salary of the employee\n",
      "500\n"
     ]
    }
   ],
   "source": [
    "emp_1=JuniorHR()"
   ]
  },
  {
   "cell_type": "code",
   "execution_count": 23,
   "id": "8677ac27",
   "metadata": {},
   "outputs": [
    {
     "data": {
      "text/plain": [
       "'Mia'"
      ]
     },
     "execution_count": 23,
     "metadata": {},
     "output_type": "execute_result"
    }
   ],
   "source": [
    "emp_1.name"
   ]
  },
  {
   "cell_type": "code",
   "execution_count": 24,
   "id": "37cc6b4c",
   "metadata": {},
   "outputs": [
    {
     "data": {
      "text/plain": [
       "500"
      ]
     },
     "execution_count": 24,
     "metadata": {},
     "output_type": "execute_result"
    }
   ],
   "source": [
    "emp_1.get_salary()"
   ]
  },
  {
   "cell_type": "code",
   "execution_count": 25,
   "id": "0294cd47",
   "metadata": {},
   "outputs": [],
   "source": [
    "emp_1.set_salary(600)"
   ]
  },
  {
   "cell_type": "code",
   "execution_count": 26,
   "id": "24d641f0",
   "metadata": {},
   "outputs": [
    {
     "data": {
      "text/plain": [
       "600"
      ]
     },
     "execution_count": 26,
     "metadata": {},
     "output_type": "execute_result"
    }
   ],
   "source": [
    "emp_1.get_salary()"
   ]
  },
  {
   "cell_type": "code",
   "execution_count": 27,
   "id": "5aaa926a",
   "metadata": {},
   "outputs": [],
   "source": [
    "emp_1.bonus(50)"
   ]
  },
  {
   "cell_type": "code",
   "execution_count": 28,
   "id": "59725564",
   "metadata": {},
   "outputs": [
    {
     "data": {
      "text/plain": [
       "650"
      ]
     },
     "execution_count": 28,
     "metadata": {},
     "output_type": "execute_result"
    }
   ],
   "source": [
    "emp_1.get_salary()"
   ]
  },
  {
   "cell_type": "code",
   "execution_count": 52,
   "id": "760cbcd5",
   "metadata": {},
   "outputs": [],
   "source": [
    "class SeniorHR(JuniorHR):\n",
    "    def __init__(self):\n",
    "        JuniorHR.__init__(self)\n",
    "    def bonus(self,amount,extra_money):\n",
    "        self.set_salary(self.get_salary()+amount+extra_money)\n",
    "    def fine(self,fine):\n",
    "        self.set_salary(self.get_salary()-fine)\n",
    "        "
   ]
  },
  {
   "cell_type": "code",
   "execution_count": 53,
   "id": "9d947346",
   "metadata": {},
   "outputs": [
    {
     "name": "stdout",
     "output_type": "stream",
     "text": [
      "What is the name of the employee\n",
      "Maya\n",
      "What is the salary of the employee\n",
      "700\n"
     ]
    }
   ],
   "source": [
    "emp_2=SeniorHR()"
   ]
  },
  {
   "cell_type": "code",
   "execution_count": 54,
   "id": "fbdd0255",
   "metadata": {},
   "outputs": [
    {
     "data": {
      "text/plain": [
       "'Maya'"
      ]
     },
     "execution_count": 54,
     "metadata": {},
     "output_type": "execute_result"
    }
   ],
   "source": [
    "emp_2.name"
   ]
  },
  {
   "cell_type": "code",
   "execution_count": 55,
   "id": "3dff19db",
   "metadata": {},
   "outputs": [
    {
     "data": {
      "text/plain": [
       "700"
      ]
     },
     "execution_count": 55,
     "metadata": {},
     "output_type": "execute_result"
    }
   ],
   "source": [
    "emp_2.get_salary()"
   ]
  },
  {
   "cell_type": "code",
   "execution_count": 56,
   "id": "bbc0cf62",
   "metadata": {},
   "outputs": [],
   "source": [
    "emp_2.bonus(100,50)"
   ]
  },
  {
   "cell_type": "code",
   "execution_count": 57,
   "id": "b2ce954b",
   "metadata": {},
   "outputs": [
    {
     "data": {
      "text/plain": [
       "850"
      ]
     },
     "execution_count": 57,
     "metadata": {},
     "output_type": "execute_result"
    }
   ],
   "source": [
    "emp_2.get_salary()"
   ]
  },
  {
   "cell_type": "code",
   "execution_count": 58,
   "id": "df9d4474",
   "metadata": {},
   "outputs": [],
   "source": [
    "emp_2.fine(20)"
   ]
  },
  {
   "cell_type": "code",
   "execution_count": 59,
   "id": "9823eb57",
   "metadata": {},
   "outputs": [
    {
     "data": {
      "text/plain": [
       "830"
      ]
     },
     "execution_count": 59,
     "metadata": {},
     "output_type": "execute_result"
    }
   ],
   "source": [
    "emp_2.get_salary()"
   ]
  },
  {
   "cell_type": "code",
   "execution_count": null,
   "id": "3fca3469",
   "metadata": {},
   "outputs": [],
   "source": []
  }
 ],
 "metadata": {
  "kernelspec": {
   "display_name": "Python 3 (ipykernel)",
   "language": "python",
   "name": "python3"
  },
  "language_info": {
   "codemirror_mode": {
    "name": "ipython",
    "version": 3
   },
   "file_extension": ".py",
   "mimetype": "text/x-python",
   "name": "python",
   "nbconvert_exporter": "python",
   "pygments_lexer": "ipython3",
   "version": "3.9.13"
  }
 },
 "nbformat": 4,
 "nbformat_minor": 5
}
