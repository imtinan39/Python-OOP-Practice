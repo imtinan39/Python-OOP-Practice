{
 "cells": [
  {
   "cell_type": "code",
   "execution_count": 40,
   "id": "26633651",
   "metadata": {},
   "outputs": [],
   "source": [
    "from abc import abstractmethod\n",
    "class JuniorHR:\n",
    "    def __init__(self):\n",
    "        print(\"What is the name of the employee\")\n",
    "        self.name=input()\n",
    "        print(\"What is the salary\")\n",
    "        self.__salary=int(input())\n",
    "    \n",
    "    def get_salary(self):\n",
    "        return  self.__salary\n",
    "    def set_salary(self,value):\n",
    "        self.__salary=value\n",
    "        \n",
    "    def bonus(self,amount):\n",
    "        self.__salary=self.__salary+amount\n",
    "    @abstractmethod\n",
    "    def leave(self):\n",
    "        pass"
   ]
  },
  {
   "cell_type": "code",
   "execution_count": 41,
   "id": "6e45eca1",
   "metadata": {},
   "outputs": [
    {
     "name": "stdout",
     "output_type": "stream",
     "text": [
      "What is the name of the employee\n",
      "mia\n",
      "What is the salary\n",
      "500\n"
     ]
    }
   ],
   "source": [
    "emp_1=JuniorHR()"
   ]
  },
  {
   "cell_type": "code",
   "execution_count": 44,
   "id": "5a66e754",
   "metadata": {},
   "outputs": [
    {
     "data": {
      "text/plain": [
       "'mia'"
      ]
     },
     "execution_count": 44,
     "metadata": {},
     "output_type": "execute_result"
    }
   ],
   "source": [
    "emp_1.name"
   ]
  },
  {
   "cell_type": "code",
   "execution_count": 45,
   "id": "8e96e196",
   "metadata": {},
   "outputs": [
    {
     "data": {
      "text/plain": [
       "500"
      ]
     },
     "execution_count": 45,
     "metadata": {},
     "output_type": "execute_result"
    }
   ],
   "source": [
    "emp_1.get_salary()"
   ]
  },
  {
   "cell_type": "code",
   "execution_count": 46,
   "id": "6318c57f",
   "metadata": {},
   "outputs": [],
   "source": [
    "emp_1.set_salary(600)"
   ]
  },
  {
   "cell_type": "code",
   "execution_count": 47,
   "id": "b44e0717",
   "metadata": {},
   "outputs": [
    {
     "data": {
      "text/plain": [
       "600"
      ]
     },
     "execution_count": 47,
     "metadata": {},
     "output_type": "execute_result"
    }
   ],
   "source": [
    "emp_1.get_salary()"
   ]
  },
  {
   "cell_type": "code",
   "execution_count": 48,
   "id": "53c7a2ed",
   "metadata": {},
   "outputs": [],
   "source": [
    "emp_1.bonus(100)"
   ]
  },
  {
   "cell_type": "code",
   "execution_count": 49,
   "id": "90797caa",
   "metadata": {},
   "outputs": [
    {
     "data": {
      "text/plain": [
       "700"
      ]
     },
     "execution_count": 49,
     "metadata": {},
     "output_type": "execute_result"
    }
   ],
   "source": [
    "emp_1.get_salary()"
   ]
  },
  {
   "cell_type": "code",
   "execution_count": 50,
   "id": "44048e44",
   "metadata": {},
   "outputs": [],
   "source": [
    "class SeniorHR(JuniorHR):\n",
    "    def __init__(self):\n",
    "        JuniorHR.__init__(self)\n",
    "    def bonus(self,amount,extra_money):\n",
    "        self.set_salary(self.get_salary()+amount+extra_money)\n",
    "    def fine(self,fine):\n",
    "        self.set_salary(self.get_salary()-fine)\n",
    "    def leave(self,day):\n",
    "        self.leave=day\n",
    "        "
   ]
  },
  {
   "cell_type": "code",
   "execution_count": 51,
   "id": "30f45817",
   "metadata": {},
   "outputs": [
    {
     "name": "stdout",
     "output_type": "stream",
     "text": [
      "What is the name of the employee\n",
      "maya\n",
      "What is the salary\n",
      "900\n"
     ]
    }
   ],
   "source": [
    "emp_2=SeniorHR()"
   ]
  },
  {
   "cell_type": "code",
   "execution_count": 53,
   "id": "cd6422d5",
   "metadata": {},
   "outputs": [
    {
     "data": {
      "text/plain": [
       "900"
      ]
     },
     "execution_count": 53,
     "metadata": {},
     "output_type": "execute_result"
    }
   ],
   "source": [
    "emp_2.get_salary()"
   ]
  },
  {
   "cell_type": "code",
   "execution_count": 54,
   "id": "a243ee1d",
   "metadata": {},
   "outputs": [],
   "source": [
    "emp_2.bonus(100,50)"
   ]
  },
  {
   "cell_type": "code",
   "execution_count": 55,
   "id": "3433951e",
   "metadata": {},
   "outputs": [
    {
     "data": {
      "text/plain": [
       "1050"
      ]
     },
     "execution_count": 55,
     "metadata": {},
     "output_type": "execute_result"
    }
   ],
   "source": [
    "emp_2.get_salary()"
   ]
  },
  {
   "cell_type": "code",
   "execution_count": 56,
   "id": "8ecf5e35",
   "metadata": {},
   "outputs": [],
   "source": [
    "emp_2.fine(30)"
   ]
  },
  {
   "cell_type": "code",
   "execution_count": 57,
   "id": "15caa626",
   "metadata": {},
   "outputs": [
    {
     "data": {
      "text/plain": [
       "1020"
      ]
     },
     "execution_count": 57,
     "metadata": {},
     "output_type": "execute_result"
    }
   ],
   "source": [
    "emp_2.get_salary()"
   ]
  },
  {
   "cell_type": "code",
   "execution_count": 58,
   "id": "e47cd2ba",
   "metadata": {},
   "outputs": [],
   "source": [
    "emp_2.leave(1)"
   ]
  },
  {
   "cell_type": "code",
   "execution_count": 59,
   "id": "e51835b1",
   "metadata": {},
   "outputs": [
    {
     "data": {
      "text/plain": [
       "1"
      ]
     },
     "execution_count": 59,
     "metadata": {},
     "output_type": "execute_result"
    }
   ],
   "source": [
    "emp_2.leave"
   ]
  },
  {
   "cell_type": "code",
   "execution_count": null,
   "id": "11443a12",
   "metadata": {},
   "outputs": [],
   "source": []
  }
 ],
 "metadata": {
  "kernelspec": {
   "display_name": "Python 3 (ipykernel)",
   "language": "python",
   "name": "python3"
  },
  "language_info": {
   "codemirror_mode": {
    "name": "ipython",
    "version": 3
   },
   "file_extension": ".py",
   "mimetype": "text/x-python",
   "name": "python",
   "nbconvert_exporter": "python",
   "pygments_lexer": "ipython3",
   "version": "3.9.13"
  }
 },
 "nbformat": 4,
 "nbformat_minor": 5
}
